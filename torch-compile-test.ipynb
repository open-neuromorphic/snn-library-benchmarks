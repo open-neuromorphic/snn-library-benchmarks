{
 "cells": [
  {
   "cell_type": "code",
   "execution_count": null,
   "metadata": {},
   "outputs": [],
   "source": [
    "import snntorch\n",
    "\n",
    "device = \"cpu\"\n",
    "class Model(nn.Module):\n",
    "    def __init__(self, beta: float = 0.95):\n",
    "        super().__init__()\n",
    "        self.fc = nn.Linear(n_neurons, n_neurons)\n",
    "        self.lif = snntorch.Leaky(beta=beta)\n",
    "        self.mem = self.lif.init_leaky()\n",
    "\n",
    "    def forward(self, x):\n",
    "        cur = self.fc(x)\n",
    "        spk, self.mem = self.lif(cur, self.mem)\n",
    "        return spk\n",
    "\n",
    "\n",
    "torch.autograd.set_detect_anomaly(False)\n",
    "\n",
    "model = Model()\n",
    "model = torch.compile(model)#, mode=\"max-autotune\")\n",
    "model = model.to(device)\n",
    "input_static = torch.randn(n_steps, batch_size, n_neurons).to(device) # n_steps\n",
    "\n",
    "output = []\n",
    "for step in range(n_steps):\n",
    "    output.append(model(input_static[step]))\n",
    "    \n",
    "torch.stack(output).sum().backward()\n",
    "\n",
    "        # for inp in x:\n",
    "        #                 output.append(spk)\n",
    "        # return torch.stack(output)\n"
   ]
  },
  {
   "cell_type": "code",
   "execution_count": null,
   "metadata": {},
   "outputs": [],
   "source": [
    "from norse.torch.module.lif import LIF\n",
    "from norse.torch import SequentialState\n",
    "import norse\n",
    "\n",
    "model = SequentialState(\n",
    "    nn.Linear(n_neurons, n_neurons),\n",
    "    LIF(),\n",
    ")\n",
    "model = model.to(device)\n",
    "model = torch.compile(model)#, mode=\"max-autotune\")\n",
    "input_static = torch.randn(n_steps, batch_size, n_neurons).to(device)\n",
    "\n",
    "model(input_static)"
   ]
  },
  {
   "cell_type": "code",
   "execution_count": null,
   "metadata": {},
   "outputs": [],
   "source": [
    "import torch \n",
    "import torch.nn as nn\n",
    "\n",
    "import sinabs.layers as sl\n",
    "\n",
    "device = \"cuda\"\n",
    "model = nn.Sequential(\n",
    "    nn.Linear(10, 10),\n",
    "    sl.LIF(tau_mem=torch.tensor(10.)),\n",
    ")\n",
    "\n",
    "model = torch.compile(model)\n",
    "model.to(device)\n",
    "\n",
    "model(torch.randn((1, 20, 10), device=device))"
   ]
  },
  {
   "cell_type": "code",
   "execution_count": null,
   "metadata": {},
   "outputs": [],
   "source": [
    "import plotly.graph_objects as go\n",
    "import pandas as pd\n",
    "import numpy as np\n",
    "\n",
    "# Assume you have a DataFrame df with columns 'x', 'y1', 'y2'\n",
    "df = pd.DataFrame({\n",
    "    'x': ['A', 'B', 'C', 'D'],\n",
    "    'y1': [10, 15, 7, 10],\n",
    "    'y2': [5, 2, 7, 8]\n",
    "})\n",
    "\n",
    "fig = go.Figure()\n",
    "\n",
    "fig.add_trace(go.Bar(x=df['x'], y=df['y1'], name='y1'))\n",
    "fig.add_trace(go.Bar(x=df['x'], y=df['y2'], text=df['y2'], textposition='inside', name='y2'))\n",
    "\n",
    "# Compute totals for each x\n",
    "totals = df['y1'] + df['y2']\n",
    "\n",
    "# Add totals as text using scatter plot\n",
    "fig.add_trace(go.Scatter(\n",
    "    x=df['x'], y=totals, \n",
    "    mode='text',\n",
    "    text=totals,\n",
    "    textposition='top center',\n",
    "    showlegend=False\n",
    "))\n",
    "\n",
    "fig.update_layout(barmode='stack')\n",
    "\n",
    "fig.show()"
   ]
  }
 ],
 "metadata": {
  "kernelspec": {
   "display_name": "frameworks310",
   "language": "python",
   "name": "python3"
  },
  "language_info": {
   "codemirror_mode": {
    "name": "ipython",
    "version": 3
   },
   "file_extension": ".py",
   "mimetype": "text/x-python",
   "name": "python",
   "nbconvert_exporter": "python",
   "pygments_lexer": "ipython3",
   "version": "3.10.12"
  }
 },
 "nbformat": 4,
 "nbformat_minor": 2
}
